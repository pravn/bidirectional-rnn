{
 "cells": [
  {
   "cell_type": "code",
   "execution_count": 1,
   "metadata": {
    "collapsed": true
   },
   "outputs": [],
   "source": [
    "%load_ext autoreload \n",
    "%autoreload 2"
   ]
  },
  {
   "cell_type": "code",
   "execution_count": 5,
   "metadata": {
    "collapsed": true
   },
   "outputs": [],
   "source": [
    "import torch\n",
    "import torch.nn as nn\n",
    "from torch.autograd import Variable"
   ]
  },
  {
   "cell_type": "code",
   "execution_count": 18,
   "metadata": {
    "collapsed": true
   },
   "outputs": [],
   "source": [
    "#https://discuss.pytorch.org/t/how-to-reverse-a-torch-tensor/382\n",
    "def reverse(x):\n",
    "    #reverse first dimension\n",
    "    #first - create a tensor with reversed dims \n",
    "    idx = [i for i in range(x.size(0)-1, -1, -1)]\n",
    "    print(idx)\n",
    "    idx = torch.LongTensor(idx)\n",
    "\n",
    "    #create tensor with reversed dims\n",
    "    inverted_tensor = x.index_select(0, idx)\n",
    "\n",
    "    return inverted_tensor\n"
   ]
  },
  {
   "cell_type": "code",
   "execution_count": 21,
   "metadata": {},
   "outputs": [],
   "source": [
    "x = Variable(torch.randn(10,2,2))"
   ]
  },
  {
   "cell_type": "code",
   "execution_count": 23,
   "metadata": {},
   "outputs": [
    {
     "name": "stdout",
     "output_type": "stream",
     "text": [
      "tensor([[[ 1.2366,  1.1539],\n",
      "         [-0.8947,  0.0050]],\n",
      "\n",
      "        [[-2.4095,  0.5682],\n",
      "         [-0.0267,  0.7975]],\n",
      "\n",
      "        [[-0.5344,  0.3525],\n",
      "         [-0.5454,  0.3094]],\n",
      "\n",
      "        [[ 0.4955,  0.3478],\n",
      "         [-1.6660, -1.1047]],\n",
      "\n",
      "        [[-0.7624, -0.3655],\n",
      "         [ 0.1530, -1.6876]],\n",
      "\n",
      "        [[-0.4656, -1.0767],\n",
      "         [ 0.0476,  1.4975]],\n",
      "\n",
      "        [[ 1.3065,  0.4898],\n",
      "         [-0.4896,  0.3587]],\n",
      "\n",
      "        [[-0.2420,  0.2937],\n",
      "         [ 0.5833,  1.6592]],\n",
      "\n",
      "        [[ 1.2828,  1.7128],\n",
      "         [ 0.9528,  1.4779]],\n",
      "\n",
      "        [[ 1.3652,  0.6777],\n",
      "         [-0.5947, -0.2400]]])\n"
     ]
    }
   ],
   "source": [
    "print(x)"
   ]
  },
  {
   "cell_type": "code",
   "execution_count": 22,
   "metadata": {},
   "outputs": [
    {
     "name": "stdout",
     "output_type": "stream",
     "text": [
      "[9, 8, 7, 6, 5, 4, 3, 2, 1, 0]\n"
     ]
    },
    {
     "data": {
      "text/plain": [
       "tensor([[[ 1.3652,  0.6777],\n",
       "         [-0.5947, -0.2400]],\n",
       "\n",
       "        [[ 1.2828,  1.7128],\n",
       "         [ 0.9528,  1.4779]],\n",
       "\n",
       "        [[-0.2420,  0.2937],\n",
       "         [ 0.5833,  1.6592]],\n",
       "\n",
       "        [[ 1.3065,  0.4898],\n",
       "         [-0.4896,  0.3587]],\n",
       "\n",
       "        [[-0.4656, -1.0767],\n",
       "         [ 0.0476,  1.4975]],\n",
       "\n",
       "        [[-0.7624, -0.3655],\n",
       "         [ 0.1530, -1.6876]],\n",
       "\n",
       "        [[ 0.4955,  0.3478],\n",
       "         [-1.6660, -1.1047]],\n",
       "\n",
       "        [[-0.5344,  0.3525],\n",
       "         [-0.5454,  0.3094]],\n",
       "\n",
       "        [[-2.4095,  0.5682],\n",
       "         [-0.0267,  0.7975]],\n",
       "\n",
       "        [[ 1.2366,  1.1539],\n",
       "         [-0.8947,  0.0050]]])"
      ]
     },
     "execution_count": 22,
     "metadata": {},
     "output_type": "execute_result"
    }
   ],
   "source": [
    "reverse(x)"
   ]
  },
  {
   "cell_type": "code",
   "execution_count": 51,
   "metadata": {
    "collapsed": true
   },
   "outputs": [],
   "source": [
    "class biGRU(nn.Module):\n",
    "    def __init__(self,input_size, hidden_size):\n",
    "        super(biGRU, self).__init__()\n",
    "        self.input_size = input_size\n",
    "        self.hidden_size = hidden_size\n",
    "\n",
    "        #hand designed, so bidirectional is set to False\n",
    "        self.GRU_f = nn.GRU(input_size, hidden_size, bidirectional=False)\n",
    "        self.GRU_b = nn.GRU(input_size, hidden_size, bidirectional=False)\n",
    "\n",
    "    def forward(self, x):\n",
    "        #make sure that first dimension is timesteps\n",
    "        batch_size = x.size(1)\n",
    "        x_f = x\n",
    "        x_b = reverse(x)\n",
    "\n",
    "        h_f = Variable(torch.FloatTensor(1, batch_size, self.hidden_size).zero_())\n",
    "        h_b = torch.zeros_like(h_f)\n",
    "\n",
    "        #y_f: (T, B, dim)\n",
    "        #y_b: (T, B, dim)\n",
    "        y_f, h_f = self.GRU_f(x_f, h_f)\n",
    "        y_b, h_b = self.GRU_b(x_b, h_b)\n",
    "\n",
    "        y = torch.cat((y_f, y_b), 2)\n",
    "\n",
    "        return y\n",
    "        "
   ]
  },
  {
   "cell_type": "code",
   "execution_count": 59,
   "metadata": {},
   "outputs": [],
   "source": [
    "gru = biGRU(20,4)"
   ]
  },
  {
   "cell_type": "code",
   "execution_count": 60,
   "metadata": {},
   "outputs": [
    {
     "name": "stdout",
     "output_type": "stream",
     "text": [
      "biGRU(\n",
      "  (GRU_f): GRU(20, 4)\n",
      "  (GRU_b): GRU(20, 4)\n",
      ")\n"
     ]
    }
   ],
   "source": [
    "print(gru)"
   ]
  },
  {
   "cell_type": "code",
   "execution_count": 61,
   "metadata": {
    "collapsed": true
   },
   "outputs": [],
   "source": [
    "x = torch.randn(10,3,20)"
   ]
  },
  {
   "cell_type": "code",
   "execution_count": 62,
   "metadata": {},
   "outputs": [
    {
     "name": "stdout",
     "output_type": "stream",
     "text": [
      "[9, 8, 7, 6, 5, 4, 3, 2, 1, 0]\n"
     ]
    }
   ],
   "source": [
    "y = gru(x)"
   ]
  },
  {
   "cell_type": "code",
   "execution_count": 64,
   "metadata": {},
   "outputs": [
    {
     "data": {
      "text/plain": [
       "torch.Size([10, 3, 8])"
      ]
     },
     "execution_count": 64,
     "metadata": {},
     "output_type": "execute_result"
    }
   ],
   "source": [
    "y.size()"
   ]
  },
  {
   "cell_type": "code",
   "execution_count": 58,
   "metadata": {},
   "outputs": [
    {
     "data": {
      "text/plain": [
       "torch.Size([10, 3, 20])"
      ]
     },
     "execution_count": 58,
     "metadata": {},
     "output_type": "execute_result"
    }
   ],
   "source": [
    "x.size()"
   ]
  },
  {
   "cell_type": "code",
   "execution_count": null,
   "metadata": {
    "collapsed": true
   },
   "outputs": [],
   "source": []
  }
 ],
 "metadata": {
  "kernelspec": {
   "display_name": "Python 3",
   "language": "python",
   "name": "python3"
  },
  "language_info": {
   "codemirror_mode": {
    "name": "ipython",
    "version": 3
   },
   "file_extension": ".py",
   "mimetype": "text/x-python",
   "name": "python",
   "nbconvert_exporter": "python",
   "pygments_lexer": "ipython3",
   "version": "3.6.5"
  }
 },
 "nbformat": 4,
 "nbformat_minor": 2
}
