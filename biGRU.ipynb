{
 "cells": [
  {
   "cell_type": "code",
   "execution_count": 6,
   "metadata": {},
   "outputs": [],
   "source": [
    "import torch\n",
    "import torch.nn as nn\n",
    "from torch.autograd import Variable"
   ]
  },
  {
   "cell_type": "code",
   "execution_count": 7,
   "metadata": {},
   "outputs": [],
   "source": [
    "#https://discuss.pytorch.org/t/how-to-reverse-a-torch-tensor/382\n",
    "def reverse(x):\n",
    "    #reverse first dimension\n",
    "    #first - create a tensor with reversed dims \n",
    "    idx = [i for i in range(x.size(0)-1, -1, -1)]\n",
    "    print(idx)\n",
    "    idx = torch.LongTensor(idx)\n",
    "\n",
    "    #create tensor with reversed dims\n",
    "    inverted_tensor = x.index_select(0, idx)\n",
    "\n",
    "    return inverted_tensor\n"
   ]
  },
  {
   "cell_type": "code",
   "execution_count": 8,
   "metadata": {},
   "outputs": [],
   "source": [
    "x = Variable(torch.randn(10,2,2))"
   ]
  },
  {
   "cell_type": "code",
   "execution_count": 9,
   "metadata": {},
   "outputs": [
    {
     "name": "stdout",
     "output_type": "stream",
     "text": [
      "tensor([[[ 1.8419, -1.1705],\n",
      "         [-0.8331,  1.1257]],\n",
      "\n",
      "        [[-0.6159,  0.6571],\n",
      "         [-0.4614,  0.0858]],\n",
      "\n",
      "        [[ 1.2304, -0.0010],\n",
      "         [-0.4309, -0.5960]],\n",
      "\n",
      "        [[ 0.4960,  0.0308],\n",
      "         [-1.3932, -0.2724]],\n",
      "\n",
      "        [[ 2.1710,  2.2022],\n",
      "         [ 0.2743, -0.9559]],\n",
      "\n",
      "        [[-0.6489,  0.1208],\n",
      "         [-0.1102, -0.5246]],\n",
      "\n",
      "        [[-1.9245, -0.4373],\n",
      "         [ 0.8161,  1.1235]],\n",
      "\n",
      "        [[ 0.3120, -0.7495],\n",
      "         [-1.2842, -2.9873]],\n",
      "\n",
      "        [[-0.9139, -0.1609],\n",
      "         [-0.0004,  0.3704]],\n",
      "\n",
      "        [[ 0.1085, -1.4659],\n",
      "         [ 0.2962,  1.2593]]])\n"
     ]
    }
   ],
   "source": [
    "print(x)"
   ]
  },
  {
   "cell_type": "code",
   "execution_count": 10,
   "metadata": {},
   "outputs": [
    {
     "name": "stdout",
     "output_type": "stream",
     "text": [
      "[9, 8, 7, 6, 5, 4, 3, 2, 1, 0]\n"
     ]
    },
    {
     "data": {
      "text/plain": [
       "tensor([[[ 0.1085, -1.4659],\n",
       "         [ 0.2962,  1.2593]],\n",
       "\n",
       "        [[-0.9139, -0.1609],\n",
       "         [-0.0004,  0.3704]],\n",
       "\n",
       "        [[ 0.3120, -0.7495],\n",
       "         [-1.2842, -2.9873]],\n",
       "\n",
       "        [[-1.9245, -0.4373],\n",
       "         [ 0.8161,  1.1235]],\n",
       "\n",
       "        [[-0.6489,  0.1208],\n",
       "         [-0.1102, -0.5246]],\n",
       "\n",
       "        [[ 2.1710,  2.2022],\n",
       "         [ 0.2743, -0.9559]],\n",
       "\n",
       "        [[ 0.4960,  0.0308],\n",
       "         [-1.3932, -0.2724]],\n",
       "\n",
       "        [[ 1.2304, -0.0010],\n",
       "         [-0.4309, -0.5960]],\n",
       "\n",
       "        [[-0.6159,  0.6571],\n",
       "         [-0.4614,  0.0858]],\n",
       "\n",
       "        [[ 1.8419, -1.1705],\n",
       "         [-0.8331,  1.1257]]])"
      ]
     },
     "execution_count": 10,
     "metadata": {},
     "output_type": "execute_result"
    }
   ],
   "source": [
    "reverse(x)"
   ]
  },
  {
   "cell_type": "code",
   "execution_count": 11,
   "metadata": {},
   "outputs": [],
   "source": [
    "class biGRU(nn.Module):\n",
    "    def __init__(self,input_size, hidden_size):\n",
    "        super(biGRU, self).__init__()\n",
    "        self.input_size = input_size\n",
    "        self.hidden_size = hidden_size\n",
    "\n",
    "        #hand designed, so bidirectional is set to False\n",
    "        self.GRU_f = nn.GRU(input_size, hidden_size, bidirectional=False)\n",
    "        self.GRU_b = nn.GRU(input_size, hidden_size, bidirectional=False)\n",
    "\n",
    "    def forward(self, x):\n",
    "        #make sure that first dimension is timesteps\n",
    "        batch_size = x.size(1)\n",
    "        x_f = x\n",
    "        x_b = reverse(x)\n",
    "\n",
    "        h_f = Variable(torch.FloatTensor(1, batch_size, self.hidden_size).zero_())\n",
    "        h_b = torch.zeros_like(h_f)\n",
    "\n",
    "        #y_f: (T, B, dim)\n",
    "        #y_b: (T, B, dim)\n",
    "        y_f, h_f = self.GRU_f(x_f, h_f)\n",
    "        y_b, h_b = self.GRU_b(x_b, h_b)\n",
    "\n",
    "        #need to reverse again before concatenating\n",
    "        y_b = reverse(y_b)\n",
    "        \n",
    "        y = torch.cat((y_f, y_b), 2)\n",
    "\n",
    "        return y\n",
    "        "
   ]
  },
  {
   "cell_type": "code",
   "execution_count": 12,
   "metadata": {},
   "outputs": [],
   "source": [
    "gru = biGRU(20,4)"
   ]
  },
  {
   "cell_type": "code",
   "execution_count": 13,
   "metadata": {},
   "outputs": [
    {
     "name": "stdout",
     "output_type": "stream",
     "text": [
      "biGRU(\n",
      "  (GRU_f): GRU(20, 4)\n",
      "  (GRU_b): GRU(20, 4)\n",
      ")\n"
     ]
    }
   ],
   "source": [
    "print(gru)"
   ]
  },
  {
   "cell_type": "code",
   "execution_count": 14,
   "metadata": {},
   "outputs": [],
   "source": [
    "x = torch.randn(10,3,20)"
   ]
  },
  {
   "cell_type": "code",
   "execution_count": 15,
   "metadata": {},
   "outputs": [
    {
     "name": "stdout",
     "output_type": "stream",
     "text": [
      "[9, 8, 7, 6, 5, 4, 3, 2, 1, 0]\n",
      "[9, 8, 7, 6, 5, 4, 3, 2, 1, 0]\n"
     ]
    }
   ],
   "source": [
    "y = gru(x)"
   ]
  },
  {
   "cell_type": "code",
   "execution_count": 16,
   "metadata": {},
   "outputs": [
    {
     "data": {
      "text/plain": [
       "torch.Size([10, 3, 8])"
      ]
     },
     "execution_count": 16,
     "metadata": {},
     "output_type": "execute_result"
    }
   ],
   "source": [
    "y.size()"
   ]
  },
  {
   "cell_type": "code",
   "execution_count": 17,
   "metadata": {},
   "outputs": [
    {
     "data": {
      "text/plain": [
       "torch.Size([10, 3, 20])"
      ]
     },
     "execution_count": 17,
     "metadata": {},
     "output_type": "execute_result"
    }
   ],
   "source": [
    "x.size()"
   ]
  },
  {
   "cell_type": "code",
   "execution_count": null,
   "metadata": {},
   "outputs": [],
   "source": []
  }
 ],
 "metadata": {
  "kernelspec": {
   "display_name": "Python 3",
   "language": "python",
   "name": "python3"
  },
  "language_info": {
   "codemirror_mode": {
    "name": "ipython",
    "version": 3
   },
   "file_extension": ".py",
   "mimetype": "text/x-python",
   "name": "python",
   "nbconvert_exporter": "python",
   "pygments_lexer": "ipython3",
   "version": "3.6.6"
  }
 },
 "nbformat": 4,
 "nbformat_minor": 2
}
